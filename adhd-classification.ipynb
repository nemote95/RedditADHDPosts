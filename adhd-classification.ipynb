{
 "cells": [
  {
   "cell_type": "code",
   "execution_count": 1,
   "metadata": {
    "_cell_guid": "b1076dfc-b9ad-4769-8c92-a6c4dae69d19",
    "_uuid": "8f2839f25d086af736a60e9eeb907d3b93b6e0e5"
   },
   "outputs": [],
   "source": [
    "import numpy as np # linear algebra\n",
    "import pandas as pd # data processing\n",
    "import os"
   ]
  },
  {
   "cell_type": "code",
   "execution_count": 2,
   "metadata": {},
   "outputs": [
    {
     "name": "stdout",
     "output_type": "stream",
     "text": [
      "(202658, 5)\n"
     ]
    },
    {
     "data": {
      "text/html": [
       "<div>\n",
       "<style scoped>\n",
       "    .dataframe tbody tr th:only-of-type {\n",
       "        vertical-align: middle;\n",
       "    }\n",
       "\n",
       "    .dataframe tbody tr th {\n",
       "        vertical-align: top;\n",
       "    }\n",
       "\n",
       "    .dataframe thead th {\n",
       "        text-align: right;\n",
       "    }\n",
       "</style>\n",
       "<table border=\"1\" class=\"dataframe\">\n",
       "  <thead>\n",
       "    <tr style=\"text-align: right;\">\n",
       "      <th></th>\n",
       "      <th>body</th>\n",
       "      <th>id</th>\n",
       "      <th>score</th>\n",
       "      <th>created_utc</th>\n",
       "      <th>created_datetime</th>\n",
       "    </tr>\n",
       "  </thead>\n",
       "  <tbody>\n",
       "    <tr>\n",
       "      <th>0</th>\n",
       "      <td>I'd like to see this sub be more active, too. ...</td>\n",
       "      <td>cqowxhs</td>\n",
       "      <td>1</td>\n",
       "      <td>1430023102</td>\n",
       "      <td>2015-04-26 04:38:22</td>\n",
       "    </tr>\n",
       "    <tr>\n",
       "      <th>1</th>\n",
       "      <td>I've found people are more receptive when you ...</td>\n",
       "      <td>cvzg3v2</td>\n",
       "      <td>1</td>\n",
       "      <td>1444835103</td>\n",
       "      <td>2015-10-14 15:05:03</td>\n",
       "    </tr>\n",
       "    <tr>\n",
       "      <th>2</th>\n",
       "      <td>Thank you so much. I have been trying to use m...</td>\n",
       "      <td>cw65vo8</td>\n",
       "      <td>1</td>\n",
       "      <td>1445326215</td>\n",
       "      <td>2015-10-20 07:30:15</td>\n",
       "    </tr>\n",
       "    <tr>\n",
       "      <th>3</th>\n",
       "      <td>[deleted]</td>\n",
       "      <td>d2tscyn</td>\n",
       "      <td>1</td>\n",
       "      <td>1462457040</td>\n",
       "      <td>2016-05-05 14:04:00</td>\n",
       "    </tr>\n",
       "    <tr>\n",
       "      <th>4</th>\n",
       "      <td>Sooooo, not sure why you were told it was 24 h...</td>\n",
       "      <td>d38enqz</td>\n",
       "      <td>1</td>\n",
       "      <td>1463457224</td>\n",
       "      <td>2016-05-17 03:53:44</td>\n",
       "    </tr>\n",
       "  </tbody>\n",
       "</table>\n",
       "</div>"
      ],
      "text/plain": [
       "                                                body       id  score  \\\n",
       "0  I'd like to see this sub be more active, too. ...  cqowxhs      1   \n",
       "1  I've found people are more receptive when you ...  cvzg3v2      1   \n",
       "2  Thank you so much. I have been trying to use m...  cw65vo8      1   \n",
       "3                                          [deleted]  d2tscyn      1   \n",
       "4  Sooooo, not sure why you were told it was 24 h...  d38enqz      1   \n",
       "\n",
       "   created_utc     created_datetime  \n",
       "0   1430023102  2015-04-26 04:38:22  \n",
       "1   1444835103  2015-10-14 15:05:03  \n",
       "2   1445326215  2015-10-20 07:30:15  \n",
       "3   1462457040  2016-05-05 14:04:00  \n",
       "4   1463457224  2016-05-17 03:53:44  "
      ]
     },
     "execution_count": 2,
     "metadata": {},
     "output_type": "execute_result"
    }
   ],
   "source": [
    "#loading comments and checking the size of data\n",
    "ADHD_comments = pd.read_csv(os.getcwd()+\"\\\\adhdwomen-comment.csv\")\n",
    "print(ADHD_comments.shape) \n",
    "ADHD_comments.head()"
   ]
  },
  {
   "cell_type": "code",
   "execution_count": 3,
   "metadata": {},
   "outputs": [
    {
     "data": {
      "text/html": [
       "<div>\n",
       "<style scoped>\n",
       "    .dataframe tbody tr th:only-of-type {\n",
       "        vertical-align: middle;\n",
       "    }\n",
       "\n",
       "    .dataframe tbody tr th {\n",
       "        vertical-align: top;\n",
       "    }\n",
       "\n",
       "    .dataframe thead th {\n",
       "        text-align: right;\n",
       "    }\n",
       "</style>\n",
       "<table border=\"1\" class=\"dataframe\">\n",
       "  <thead>\n",
       "    <tr style=\"text-align: right;\">\n",
       "      <th></th>\n",
       "      <th>body</th>\n",
       "      <th>id</th>\n",
       "      <th>score</th>\n",
       "      <th>created_utc</th>\n",
       "      <th>created_datetime</th>\n",
       "    </tr>\n",
       "  </thead>\n",
       "  <tbody>\n",
       "    <tr>\n",
       "      <th>0</th>\n",
       "      <td>I'd like to see this sub be more active, too. ...</td>\n",
       "      <td>cqowxhs</td>\n",
       "      <td>1</td>\n",
       "      <td>1430023102</td>\n",
       "      <td>2015-04-26 04:38:22</td>\n",
       "    </tr>\n",
       "    <tr>\n",
       "      <th>1</th>\n",
       "      <td>I've found people are more receptive when you ...</td>\n",
       "      <td>cvzg3v2</td>\n",
       "      <td>1</td>\n",
       "      <td>1444835103</td>\n",
       "      <td>2015-10-14 15:05:03</td>\n",
       "    </tr>\n",
       "    <tr>\n",
       "      <th>2</th>\n",
       "      <td>Thank you so much. I have been trying to use m...</td>\n",
       "      <td>cw65vo8</td>\n",
       "      <td>1</td>\n",
       "      <td>1445326215</td>\n",
       "      <td>2015-10-20 07:30:15</td>\n",
       "    </tr>\n",
       "    <tr>\n",
       "      <th>4</th>\n",
       "      <td>Sooooo, not sure why you were told it was 24 h...</td>\n",
       "      <td>d38enqz</td>\n",
       "      <td>1</td>\n",
       "      <td>1463457224</td>\n",
       "      <td>2016-05-17 03:53:44</td>\n",
       "    </tr>\n",
       "    <tr>\n",
       "      <th>5</th>\n",
       "      <td>My doctor is reluctant to give me a fast actin...</td>\n",
       "      <td>d38f9y3</td>\n",
       "      <td>1</td>\n",
       "      <td>1463458428</td>\n",
       "      <td>2016-05-17 04:13:48</td>\n",
       "    </tr>\n",
       "  </tbody>\n",
       "</table>\n",
       "</div>"
      ],
      "text/plain": [
       "                                                body       id  score  \\\n",
       "0  I'd like to see this sub be more active, too. ...  cqowxhs      1   \n",
       "1  I've found people are more receptive when you ...  cvzg3v2      1   \n",
       "2  Thank you so much. I have been trying to use m...  cw65vo8      1   \n",
       "4  Sooooo, not sure why you were told it was 24 h...  d38enqz      1   \n",
       "5  My doctor is reluctant to give me a fast actin...  d38f9y3      1   \n",
       "\n",
       "   created_utc     created_datetime  \n",
       "0   1430023102  2015-04-26 04:38:22  \n",
       "1   1444835103  2015-10-14 15:05:03  \n",
       "2   1445326215  2015-10-20 07:30:15  \n",
       "4   1463457224  2016-05-17 03:53:44  \n",
       "5   1463458428  2016-05-17 04:13:48  "
      ]
     },
     "execution_count": 3,
     "metadata": {},
     "output_type": "execute_result"
    }
   ],
   "source": [
    "#remove comments which were marked deleted/removed or the bot removed them due to violating Rule 7 of Reddit.\n",
    "filtered_comments = ADHD_comments[(~ADHD_comments[\"body\"].isin([\"[deleted]\", \"[removed]\"])) & (~ADHD_comments[\"body\"].str.contains('Rule 7'))]\n",
    "filtered_comments.head()"
   ]
  },
  {
   "cell_type": "code",
   "execution_count": 4,
   "metadata": {},
   "outputs": [],
   "source": [
    "#cleaning texts from punctuations, stop words and wiered characters and generating tokens \n",
    "\n",
    "import nltk\n",
    "import re\n",
    "\n",
    "from nltk.stem import WordNetLemmatizer \n",
    "from nltk.corpus import stopwords\n",
    "from nltk.tokenize import word_tokenize\n",
    "\n",
    "\n",
    "lemmatizer = WordNetLemmatizer()\n",
    "stop_words = set(stopwords.words('english'))\n",
    "\n",
    "def clean_text(text):\n",
    "    text=re.sub(r'[^\\w\\s]',\"\",text)\n",
    "    text=text.replace(\"\\n\", \" \").replace(\"  \", \" \")\n",
    "    return text\n",
    "def lemmas(text):\n",
    "    tokens = word_tokenize(text.lower())\n",
    "    doc = [lemmatizer.lemmatize(token) for token in tokens if token not in stop_words]\n",
    "    return doc\n",
    "def process_text(text):\n",
    "    text = clean_text(text)\n",
    "    text_lemmas = lemmas(text)\n",
    "    return text_lemmas\n"
   ]
  },
  {
   "cell_type": "code",
   "execution_count": 5,
   "metadata": {},
   "outputs": [],
   "source": [
    "#saving tokens in a file so that we don't need to clean texts every time!\n",
    "vectors = [process_text(text) for text in filtered_comments[\"body\"].values]\n",
    "vector_df = pd.DataFrame({\"index\":filtered_comments.index.values, \"text\":filtered_comments[\"body\"].values, \"tokens\":vectors})\n",
    "vector_df.to_csv(os.getcwd()+\"\\\\vectors.csv\")"
   ]
  },
  {
   "cell_type": "code",
   "execution_count": 6,
   "metadata": {},
   "outputs": [],
   "source": [
    "#vector_df = pd.read_csv(\"vectors.csv\")\n",
    "#vectors = vector_df[\"tokens\"]"
   ]
  },
  {
   "cell_type": "code",
   "execution_count": 7,
   "metadata": {},
   "outputs": [
    {
     "data": {
      "text/html": [
       "<div>\n",
       "<style scoped>\n",
       "    .dataframe tbody tr th:only-of-type {\n",
       "        vertical-align: middle;\n",
       "    }\n",
       "\n",
       "    .dataframe tbody tr th {\n",
       "        vertical-align: top;\n",
       "    }\n",
       "\n",
       "    .dataframe thead th {\n",
       "        text-align: right;\n",
       "    }\n",
       "</style>\n",
       "<table border=\"1\" class=\"dataframe\">\n",
       "  <thead>\n",
       "    <tr style=\"text-align: right;\">\n",
       "      <th></th>\n",
       "      <th>index</th>\n",
       "      <th>text</th>\n",
       "      <th>tokens</th>\n",
       "    </tr>\n",
       "  </thead>\n",
       "  <tbody>\n",
       "    <tr>\n",
       "      <th>0</th>\n",
       "      <td>0</td>\n",
       "      <td>I'd like to see this sub be more active, too. ...</td>\n",
       "      <td>[id, like, see, sub, active, across, reddit, l...</td>\n",
       "    </tr>\n",
       "    <tr>\n",
       "      <th>1</th>\n",
       "      <td>1</td>\n",
       "      <td>I've found people are more receptive when you ...</td>\n",
       "      <td>[ive, found, people, receptive, take, responsi...</td>\n",
       "    </tr>\n",
       "    <tr>\n",
       "      <th>2</th>\n",
       "      <td>2</td>\n",
       "      <td>Thank you so much. I have been trying to use m...</td>\n",
       "      <td>[thank, much, trying, use, phone, set, alert, ...</td>\n",
       "    </tr>\n",
       "    <tr>\n",
       "      <th>3</th>\n",
       "      <td>4</td>\n",
       "      <td>Sooooo, not sure why you were told it was 24 h...</td>\n",
       "      <td>[sooooo, sure, told, 24, hour, release, ill, g...</td>\n",
       "    </tr>\n",
       "    <tr>\n",
       "      <th>4</th>\n",
       "      <td>5</td>\n",
       "      <td>My doctor is reluctant to give me a fast actin...</td>\n",
       "      <td>[doctor, reluctant, give, fast, acting, dosage...</td>\n",
       "    </tr>\n",
       "  </tbody>\n",
       "</table>\n",
       "</div>"
      ],
      "text/plain": [
       "   index                                               text  \\\n",
       "0      0  I'd like to see this sub be more active, too. ...   \n",
       "1      1  I've found people are more receptive when you ...   \n",
       "2      2  Thank you so much. I have been trying to use m...   \n",
       "3      4  Sooooo, not sure why you were told it was 24 h...   \n",
       "4      5  My doctor is reluctant to give me a fast actin...   \n",
       "\n",
       "                                              tokens  \n",
       "0  [id, like, see, sub, active, across, reddit, l...  \n",
       "1  [ive, found, people, receptive, take, responsi...  \n",
       "2  [thank, much, trying, use, phone, set, alert, ...  \n",
       "3  [sooooo, sure, told, 24, hour, release, ill, g...  \n",
       "4  [doctor, reluctant, give, fast, acting, dosage...  "
      ]
     },
     "execution_count": 7,
     "metadata": {},
     "output_type": "execute_result"
    }
   ],
   "source": [
    "vector_df.head()"
   ]
  },
  {
   "cell_type": "code",
   "execution_count": 52,
   "metadata": {},
   "outputs": [
    {
     "name": "stdout",
     "output_type": "stream",
     "text": [
      "im           1.410137\n",
      "like         1.216410\n",
      "get          0.929256\n",
      "adhd         0.906246\n",
      "thing        0.869060\n",
      "               ...   \n",
      "different    0.167969\n",
      "id           0.164726\n",
      "month        0.163073\n",
      "said         0.160973\n",
      "use          0.160757\n",
      "Length: 100, dtype: float64\n"
     ]
    }
   ],
   "source": [
    "#finding most repeated tokens\n",
    "tokens_series = []\n",
    "for vector in vectors:\n",
    "    tokens_series+=vector\n",
    "tokens_series = pd.Series(tokens_series)\n",
    "top_words = tokens_series.value_counts()[:100]*100/tokens_series.shape[0]\n",
    "print(top_words)"
   ]
  },
  {
   "cell_type": "code",
   "execution_count": 9,
   "metadata": {},
   "outputs": [],
   "source": [
    "#importing tools from gensim for LDA\n",
    "import gensim\n",
    "import gensim.corpora as corpora\n",
    "from gensim.utils import simple_preprocess\n",
    "from gensim.models import CoherenceModel"
   ]
  },
  {
   "cell_type": "code",
   "execution_count": 12,
   "metadata": {},
   "outputs": [],
   "source": [
    "# Creates, which is a mapping of word IDs to words.\n",
    "def vector_to_corpus(vectors):\n",
    "    words = corpora.Dictionary(vectors)\n",
    "\n",
    "    # Turns each document into a bag of words.\n",
    "    corpus = [words.doc2bow(doc) for doc in vectors]\n",
    "    return corpus, words"
   ]
  },
  {
   "cell_type": "code",
   "execution_count": 13,
   "metadata": {},
   "outputs": [],
   "source": [
    "#Training LDA\n",
    "corpus,words = vector_to_corpus(vectors)\n",
    "lda_model = gensim.models.ldamodel.LdaModel(corpus=corpus,\n",
    "                                           id2word=words,\n",
    "                                           num_topics=10, \n",
    "                                           random_state=2,\n",
    "                                           update_every=1,\n",
    "                                           passes=10,\n",
    "                                           alpha='auto',\n",
    "                                           per_word_topics=True)"
   ]
  },
  {
   "cell_type": "code",
   "execution_count": 14,
   "metadata": {},
   "outputs": [
    {
     "data": {
      "text/plain": [
       "[(0,\n",
       "  '0.028*\"im\" + 0.025*\"like\" + 0.018*\"get\" + 0.017*\"thing\" + 0.015*\"dont\" + 0.012*\"feel\" + 0.012*\"really\" + 0.011*\"know\" + 0.011*\"also\" + 0.011*\"ive\"'),\n",
       " (1,\n",
       "  '0.034*\"doctor\" + 0.022*\"psychiatrist\" + 0.018*\"appointment\" + 0.016*\"health\" + 0.016*\"question\" + 0.016*\"therapist\" + 0.014*\"diagnosis\" + 0.013*\"ask\" + 0.012*\"test\" + 0.011*\"asked\"'),\n",
       " (2,\n",
       "  '0.029*\"brain\" + 0.021*\"list\" + 0.021*\"task\" + 0.018*\"focus\" + 0.017*\"work\" + 0.016*\"done\" + 0.012*\"write\" + 0.011*\"phone\" + 0.011*\"reading\" + 0.011*\"note\"'),\n",
       " (3,\n",
       "  '0.045*\"job\" + 0.040*\"school\" + 0.035*\"kid\" + 0.022*\"mom\" + 0.021*\"parent\" + 0.018*\"class\" + 0.018*\"couldnt\" + 0.016*\"year\" + 0.016*\"child\" + 0.014*\"high\"'),\n",
       " (4,\n",
       "  '0.020*\"use\" + 0.018*\"put\" + 0.011*\"house\" + 0.010*\"one\" + 0.010*\"clean\" + 0.009*\"stuff\" + 0.008*\"room\" + 0.006*\"cleaning\" + 0.006*\"buy\" + 0.006*\"pick\"'),\n",
       " (5,\n",
       "  '0.133*\"thank\" + 0.070*\"thanks\" + 0.055*\"post\" + 0.038*\"comment\" + 0.029*\"omg\" + 0.025*\"sharing\" + 0.024*\"wow\" + 0.024*\"god\" + 0.018*\"appreciate\" + 0.018*\"sub\"'),\n",
       " (6,\n",
       "  '0.058*\"amp\" + 0.015*\"gt\" + 0.013*\"autism\" + 0.012*\"article\" + 0.011*\"men\" + 0.011*\"female\" + 0.010*\"medium\" + 0.010*\"here\" + 0.010*\"social\" + 0.010*\"adhders\"'),\n",
       " (7,\n",
       "  '0.060*\"med\" + 0.021*\"eat\" + 0.019*\"adderall\" + 0.019*\"medication\" + 0.018*\"take\" + 0.018*\"effect\" + 0.018*\"taking\" + 0.017*\"dose\" + 0.016*\"eating\" + 0.015*\"side\"'),\n",
       " (8,\n",
       "  '0.066*\"day\" + 0.034*\"time\" + 0.031*\"year\" + 0.028*\"week\" + 0.026*\"every\" + 0.021*\"month\" + 0.021*\"started\" + 0.019*\"last\" + 0.018*\"hour\" + 0.016*\"two\"'),\n",
       " (9,\n",
       "  '0.101*\"adhd\" + 0.022*\"diagnosed\" + 0.020*\"anxiety\" + 0.019*\"symptom\" + 0.019*\"life\" + 0.016*\"issue\" + 0.014*\"experience\" + 0.012*\"diagnosis\" + 0.010*\"depression\" + 0.010*\"woman\"')]"
      ]
     },
     "execution_count": 14,
     "metadata": {},
     "output_type": "execute_result"
    }
   ],
   "source": [
    "#printing extracted topics by LDA\n",
    "lda_model.print_topics()"
   ]
  },
  {
   "cell_type": "code",
   "execution_count": 36,
   "metadata": {},
   "outputs": [],
   "source": [
    "#extracting the probability of topics for each text\n",
    "def topic_distribution(corpus):\n",
    "    return lda_model[corpus][0]\n",
    "\n",
    "#choosing topic with the highest probability as the predicted topic\n",
    "def topic_prediction(corpus):\n",
    "    topics = [max(topic_distribution(c), key = lambda x : x[1]) for c in corpus]\n",
    "    return topics"
   ]
  },
  {
   "cell_type": "code",
   "execution_count": 39,
   "metadata": {},
   "outputs": [
    {
     "name": "stderr",
     "output_type": "stream",
     "text": [
      "IOPub data rate exceeded.\n",
      "The notebook server will temporarily stop sending output\n",
      "to the client in order to avoid crashing it.\n",
      "To change this limit, set the config variable\n",
      "`--NotebookApp.iopub_data_rate_limit`.\n",
      "\n",
      "Current values:\n",
      "NotebookApp.iopub_data_rate_limit=1000000.0 (bytes/sec)\n",
      "NotebookApp.rate_limit_window=3.0 (secs)\n",
      "\n"
     ]
    }
   ],
   "source": [
    "#saving predictions and their probability in a csv file\n",
    "predictions = topic_prediction(corpus)\n",
    "print(predictions)\n",
    "topic, probabs=list(zip(*predictions))\n",
    "vector_df[\"predicted_topic\"]=topic\n",
    "vector_df[\"predicted_probabs\"]=probabs\n",
    "vector_df.to_csv(\"predictions.csv\")"
   ]
  },
  {
   "cell_type": "code",
   "execution_count": 44,
   "metadata": {},
   "outputs": [
    {
     "data": {
      "text/plain": [
       "0    98.978216\n",
       "4     0.463536\n",
       "9     0.183410\n",
       "8     0.114255\n",
       "7     0.112251\n",
       "1     0.103231\n",
       "3     0.019544\n",
       "2     0.013530\n",
       "5     0.009020\n",
       "6     0.003007\n",
       "Name: predicted_topic, dtype: float64"
      ]
     },
     "execution_count": 44,
     "metadata": {},
     "output_type": "execute_result"
    }
   ],
   "source": [
    "#finding the distribution of topics in the posts\n",
    "vector_df[\"predicted_topic\"].value_counts()*100/vector_df.shape[0]"
   ]
  },
  {
   "cell_type": "code",
   "execution_count": 53,
   "metadata": {},
   "outputs": [],
   "source": [
    "#extracting the distribution of top 50 important words in the topics.\n",
    "def word_dist(words, vector_df):\n",
    "    word_topic_dic = {}\n",
    "    topics = vector_df.groupby(\"predicted_topic\")\n",
    "    for topic, grp in topics:        \n",
    "        token_list =[]\n",
    "        for tokens in grp[\"tokens\"].values:\n",
    "            token_list +=tokens\n",
    "        word_topic_dic[topic] = token_list\n",
    "    word_topic_dist = {}\n",
    "    for word in words:\n",
    "        word_topic_dist[word]={}\n",
    "        for topic in word_topic_dic.keys():\n",
    "                word_topic_dist[word][topic]=word_topic_dic[topic].count(word)/len(word_topic_dic[topic])\n",
    "    return word_topic_dist\n",
    "word_topic_distribution = word_dist(top_words.index, vector_df)"
   ]
  },
  {
   "cell_type": "code",
   "execution_count": 54,
   "metadata": {},
   "outputs": [
    {
     "data": {
      "image/png": "[encoded data removed]",
      "text/plain": [
       "<Figure size 720x2160 with 1 Axes>"
      ]
     },
     "metadata": {},
     "output_type": "display_data"
    }
   ],
   "source": [
    "import matplotlib.pyplot as plt\n",
    "import seaborn as sns\n",
    "\n",
    "plt.figure(figsize=(10,30))\n",
    "colors = sns.color_palette(\"pastel\")\n",
    "col_no = 0\n",
    "for topic in range(10):\n",
    "    sns.barplot(y=top_words.index, x=[word_topic_distribution[word][topic] for word in top_words.index], color=colors[col_no], label = topic) # Your code here\n",
    "    col_no+=1\n",
    "plt.legend()\n",
    "plt.show()"
   ]
  },
  {
   "cell_type": "code",
   "execution_count": null,
   "metadata": {},
   "outputs": [],
   "source": []
  }
 ],
 "metadata": {
  "kernelspec": {
   "display_name": "Python 3",
   "language": "python",
   "name": "python3"
  },
  "language_info": {
   "codemirror_mode": {
    "name": "ipython",
    "version": 3
   },
   "file_extension": ".py",
   "mimetype": "text/x-python",
   "name": "python",
   "nbconvert_exporter": "python",
   "pygments_lexer": "ipython3",
   "version": "3.6.4"
  }
 },
 "nbformat": 4,
 "nbformat_minor": 4
}
